{
 "cells": [
  {
   "cell_type": "markdown",
   "metadata": {},
   "source": [
    "Experimental code for metrics with a binary response."
   ]
  },
  {
   "cell_type": "code",
   "execution_count": 1,
   "metadata": {},
   "outputs": [],
   "source": [
    "import numpy as np\n",
    "from matplotlib import pyplot as plt\n",
    "from pedeval.experiment_design import QualifiedOnlyBRRED\n",
    "import scipy"
   ]
  },
  {
   "cell_type": "code",
   "execution_count": 2,
   "metadata": {},
   "outputs": [
    {
     "data": {
      "image/png": "[encoded data removed]",
      "text/plain": [
       "<Figure size 432x288 with 1 Axes>"
      ]
     },
     "metadata": {
      "needs_background": "light"
     },
     "output_type": "display_data"
    }
   ],
   "source": [
    "design3 = (\n",
    "    QualifiedOnlyBRRED(p_C0=0.15, p_C1=0.16, p_I1=0.17, p_C2=0.14, p_I2=0.155, \n",
    "                       p_C3=0.2, p_Iphi=0.215, p_Ipsi=0.225,\n",
    "                       n_0=10001, n_1=8201, n_2=7301, n_3=4001, alpha=0.05, pi_min=0.8)\n",
    ")\n",
    "\n",
    "samples = []\n",
    "for i in range(0, 10000):\n",
    "    samples.append(design3.get_actual_effect_sample())\n",
    "    \n",
    "plt.hist(samples, bins=100, alpha=0.8)\n",
    "plt.axvline(design3.theoretical_actual_effect())\n",
    "plt.show()\n"
   ]
  },
  {
   "cell_type": "code",
   "execution_count": 58,
   "metadata": {},
   "outputs": [
    {
     "name": "stdout",
     "output_type": "stream",
     "text": [
      "Run: 499/500\r"
     ]
    }
   ],
   "source": [
    "percentiles = []\n",
    "N_RUNS = 500\n",
    "\n",
    "for run in range(0, N_RUNS):\n",
    "    print(f\"Run: {run}/{N_RUNS}\", end=\"\\r\")\n",
    "    \n",
    "    # initial samples\n",
    "    samples = []\n",
    "    for i in range(0, 1000):\n",
    "        samples.append(design3.get_actual_effect_sample())\n",
    "    \n",
    "    # bootstrap means\n",
    "    bootstrap_means = []\n",
    "    for j in range(0, 200):\n",
    "        bootstrap_means.append(np.mean(np.random.choice(samples, size=len(samples), replace=True)))\n",
    "        \n",
    "    # ranks\n",
    "    percentiles.append(scipy.stats.percentileofscore(bootstrap_means, design3.theoretical_actual_effect()))\n",
    "    "
   ]
  },
  {
   "cell_type": "code",
   "execution_count": 61,
   "metadata": {},
   "outputs": [
    {
     "data": {
      "image/png": "[encoded data removed]",
      "text/plain": [
       "<Figure size 432x288 with 1 Axes>"
      ]
     },
     "metadata": {
      "needs_background": "light"
     },
     "output_type": "display_data"
    }
   ],
   "source": [
    "plt.hist(percentiles, bins=25, alpha=0.8)\n",
    "plt.show()"
   ]
  },
  {
   "cell_type": "code",
   "execution_count": 3,
   "metadata": {},
   "outputs": [
    {
     "name": "stdout",
     "output_type": "stream",
     "text": [
      "Run: 9/10... MDE Size sample: 100/100\r"
     ]
    }
   ],
   "source": [
    "percentiles = []\n",
    "N_RUNS = 10\n",
    "N_MDE_SIZE_SAMPLES = 100\n",
    "\n",
    "for run in range(0, N_RUNS):\n",
    "    print(f\"Run: {run+1}/{N_RUNS}...\", end=\"\\r\")\n",
    "    \n",
    "    # initial samples\n",
    "    samples = []\n",
    "    for mde_sample in range(0, N_MDE_SIZE_SAMPLES):\n",
    "        print(f\"Run: {run+1}/{N_RUNS}... MDE Size sample: {mde_sample+1}/{N_MDE_SIZE_SAMPLES}\", \n",
    "              end=\"\\r\")\n",
    "        samples.append(design3.get_mde_size_sample())\n",
    "    \n",
    "    # bootstrap means\n",
    "    bootstrap_means = []\n",
    "    for j in range(0, 1000):\n",
    "        bootstrap_means.append(np.mean(np.random.choice(samples, size=len(samples), replace=True)))\n",
    "        \n",
    "    # ranks\n",
    "    percentiles.append(scipy.stats.percentileofscore(bootstrap_means, design3.theoretical_mde_size()))\n",
    "    "
   ]
  },
  {
   "cell_type": "code",
   "execution_count": 9,
   "metadata": {},
   "outputs": [
    {
     "data": {
      "text/plain": [
       "<matplotlib.lines.Line2D at 0x118551ba8>"
      ]
     },
     "execution_count": 9,
     "metadata": {},
     "output_type": "execute_result"
    },
    {
     "data": {
      "image/png": "[encoded data removed]",
      "text/plain": [
       "<Figure size 432x288 with 1 Axes>"
      ]
     },
     "metadata": {
      "needs_background": "light"
     },
     "output_type": "display_data"
    }
   ],
   "source": [
    "plt.hist(bootstrap_means, bins=20)\n",
    "plt.axvline(design3.theoretical_mde_size())"
   ]
  },
  {
   "cell_type": "code",
   "execution_count": 4,
   "metadata": {},
   "outputs": [
    {
     "data": {
      "text/plain": [
       "(array([9., 0., 0., 0., 0., 0., 0., 0., 0., 1.]),\n",
       " array([ 0.  ,  6.56, 13.12, 19.68, 26.24, 32.8 , 39.36, 45.92, 52.48,\n",
       "        59.04, 65.6 ]),\n",
       " <a list of 10 Patch objects>)"
      ]
     },
     "execution_count": 4,
     "metadata": {},
     "output_type": "execute_result"
    },
    {
     "data": {
      "image/png": "[encoded data removed]",
      "text/plain": [
       "<Figure size 432x288 with 1 Axes>"
      ]
     },
     "metadata": {
      "needs_background": "light"
     },
     "output_type": "display_data"
    }
   ],
   "source": [
    "plt.hist(percentiles)"
   ]
  },
  {
   "cell_type": "code",
   "execution_count": 101,
   "metadata": {},
   "outputs": [
    {
     "data": {
      "text/plain": [
       "0.011079487179487183"
      ]
     },
     "execution_count": 101,
     "metadata": {},
     "output_type": "execute_result"
    }
   ],
   "source": [
    "from pedeval.sampler import BinarySampler\n",
    "import numpy as np\n",
    "from scipy.stats import percentileofscore, norm\n",
    "import noisyopt\n",
    "\n",
    "n_null_metric_samples = 2000\n",
    "n_alt_metric_samples = 500\n",
    "\n",
    "null_metric_samples = []\n",
    "alt_metric_samples = []\n",
    "\n",
    "# For binary response, it is equivalent to either:\n",
    "# 1. Sample three groups with sizes n_1, n_2, n_3 and prob p_1, p_2, p_3, or\n",
    "# 2. Sample one group with size (n_1 + n_2 + n_3) and prob\n",
    "#    (n_1p_1 + n_2p_2 + n_3p_3) / (n_1 + n_2 + n_3)\n",
    "\n",
    "group_A_n = int(design3.n_1 / 2) + int(design3.n_2 / 2) + int(design3.n_3 / 2)\n",
    "group_A_p = (\n",
    "    (design3.n_1 * design3.p_I1 + design3.n_2 * design3.p_C2 + \n",
    "     design3.n_3 * design3.p_Iphi) /\n",
    "    (design3.n_1 + design3.n_2 + design3.n_3)   \n",
    ")\n",
    "\n",
    "for sample in range(0, n_null_metric_samples):\n",
    "    group_A_responses = BinarySampler(n=group_A_n, p=group_A_p).get_samples()\n",
    "    group_B_responses_null = BinarySampler(n=group_A_n, p=group_A_p).get_samples()\n",
    "    \n",
    "    null_metric_samples.append(np.mean(group_B_responses_null) - np.mean(group_A_responses))\n",
    "\n",
    "null_critical_value = np.percentile(null_metric_samples, (1 - design3.alpha / 2) * 100)\n",
    "\n",
    "null_critical_value\n",
    "\n"
   ]
  },
  {
   "cell_type": "code",
   "execution_count": 135,
   "metadata": {},
   "outputs": [
    {
     "name": "stdout",
     "output_type": "stream",
     "text": [
      "0.0155 0.822\n"
     ]
    },
    {
     "data": {
      "text/plain": [
       "0.822"
      ]
     },
     "execution_count": 135,
     "metadata": {},
     "output_type": "execute_result"
    }
   ],
   "source": [
    "simulated_power_BRR(0.0155, group_A_n, group_A_p, null_critical_value, n_alt_metric_samples)"
   ]
  },
  {
   "cell_type": "code",
   "execution_count": 138,
   "metadata": {},
   "outputs": [],
   "source": [
    "def simulated_power(effect: float, group_A_n: int, group_A_p: int,\n",
    "                    null_critical_value: float,\n",
    "                    n_alt_metric_samples: int, **kwargs):\n",
    "    \n",
    "    alt_metric_samples = []\n",
    "    \n",
    "    for sample in range(0, n_alt_metric_samples):\n",
    "        group_A_responses = BinarySampler(n=group_A_n, p=group_A_p).get_samples()\n",
    "        group_B_responses_alt = (\n",
    "            BinarySampler(n=group_A_n, p=group_A_p + effect).get_samples())\n",
    "        alt_metric_samples.append(\n",
    "            np.mean(group_B_responses_alt) - np.mean(group_A_responses))\n",
    "        \n",
    "    power = 1 - (percentileofscore(alt_metric_samples, null_critical_value) / 100)\n",
    "        \n",
    "    return power"
   ]
  },
  {
   "cell_type": "code",
   "execution_count": 116,
   "metadata": {},
   "outputs": [
    {
     "name": "stdout",
     "output_type": "stream",
     "text": [
      "CPU times: user 1.66 ms, sys: 86 µs, total: 1.75 ms\n",
      "Wall time: 2.73 ms\n"
     ]
    }
   ],
   "source": [
    "%%time\n",
    "\n",
    "# Speeding up the search by bounding the search space more efficiently\n",
    "indicative_mde = (\n",
    "    null_critical_value / norm.ppf(1-(design3.alpha/2)) *\n",
    "    (norm.ppf(1-(design3.alpha/2)) - norm.ppf(1-design3.pi_min)))\n",
    "search_lbound = indicative_mde * 0.8\n",
    "search_ubound = indicative_mde * 1.25\n",
    "\n",
    "# noisyopt.minimizeCompass(\n",
    "#     lambda x: np.abs(simulated_power(x, group_A_n, group_A_p, \n",
    "#                                      null_critical_value, n_alt_metric_samples) -\n",
    "#                      design3.pi_min),\n",
    "#     x0=[indicative_mde],\n",
    "#     bounds=[[search_lbound, search_ubound]],\n",
    "#     deltainit=1, deltatol=0.0001,\n",
    "#     funcNinit=30,\n",
    "#     paired=False,\n",
    "# )"
   ]
  },
  {
   "cell_type": "code",
   "execution_count": 139,
   "metadata": {},
   "outputs": [
    {
     "name": "stdout",
     "output_type": "stream",
     "text": [
      "bisect bounds 0.012669672606706657 0.01583709075838332\n",
      "bisect bounds 0.014253381682544988 0.01583709075838332\n",
      "bisect bounds 0.015045236220464154 0.01583709075838332\n",
      "bisect bounds 0.015441163489423737 0.01583709075838332\n",
      "bisect bounds 0.015441163489423737 0.01563912712390353\n",
      "bisect bounds 0.015441163489423737 0.015540145306663634\n",
      "bisect bounds 0.015490654398043684 0.015540145306663634\n",
      "bisect final value 0.015580174718047417\n",
      "CPU times: user 35.3 s, sys: 509 ms, total: 35.9 s\n",
      "Wall time: 42.3 s\n"
     ]
    },
    {
     "data": {
      "text/plain": [
       "0.015580174718047417"
      ]
     },
     "execution_count": 139,
     "metadata": {},
     "output_type": "execute_result"
    }
   ],
   "source": [
    "%%time\n",
    "\n",
    "noisyopt.bisect(\n",
    "    noisyopt.AveragedFunction(\n",
    "        lambda x: simulated_power(x, group_A_n, group_A_p, \n",
    "                                  null_critical_value, n_alt_metric_samples) -\n",
    "                  design3.pi_min,\n",
    "        N=20),\n",
    "    search_lbound, search_ubound, \n",
    "    xtol=0.00005, errorcontrol=True, \n",
    "    testkwargs={'alpha': 0.005, 'eps': 0.0005, 'maxN': 640},\n",
    "    outside='extrapolate', ascending=True, disp=True)"
   ]
  },
  {
   "cell_type": "code",
   "execution_count": null,
   "metadata": {},
   "outputs": [],
   "source": []
  }
 ],
 "metadata": {
  "kernelspec": {
   "display_name": "Python 3",
   "language": "python",
   "name": "python3"
  },
  "language_info": {
   "codemirror_mode": {
    "name": "ipython",
    "version": 3
   },
   "file_extension": ".py",
   "mimetype": "text/x-python",
   "name": "python",
   "nbconvert_exporter": "python",
   "pygments_lexer": "ipython3",
   "version": "3.7.3"
  }
 },
 "nbformat": 4,
 "nbformat_minor": 4
}
