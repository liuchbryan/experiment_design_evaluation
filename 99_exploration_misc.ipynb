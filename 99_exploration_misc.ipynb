{
 "cells": [
  {
   "cell_type": "markdown",
   "metadata": {},
   "source": [
    "This notebook contain experimental code used in initial exploration."
   ]
  },
  {
   "cell_type": "code",
   "execution_count": 1,
   "metadata": {},
   "outputs": [],
   "source": [
    "import numpy as np\n",
    "from matplotlib import pyplot as plt"
   ]
  },
  {
   "cell_type": "markdown",
   "metadata": {},
   "source": [
    "# Spend distribution"
   ]
  },
  {
   "cell_type": "code",
   "execution_count": 2,
   "metadata": {},
   "outputs": [],
   "source": [
    "p = 0.25\n",
    "mu = 5\n",
    "sigma_sq = 1\n",
    "sigma = np.sqrt(sigma_sq)\n",
    "N_SAMPLES = 100"
   ]
  },
  {
   "cell_type": "code",
   "execution_count": 3,
   "metadata": {},
   "outputs": [],
   "source": [
    "samples = np.random.binomial(n=1, p=p, size=N_SAMPLES) * np.random.lognormal(mean=mu, sigma=sigma, size=N_SAMPLES)"
   ]
  },
  {
   "cell_type": "code",
   "execution_count": 4,
   "metadata": {},
   "outputs": [],
   "source": [
    "means = []\n",
    "\n",
    "for i in range(0, 10000):\n",
    "    samples = np.random.binomial(n=1, p=p, size=N_SAMPLES) * np.random.lognormal(mean=mu, sigma=sigma, size=N_SAMPLES)\n",
    "    means.append(samples.mean())"
   ]
  },
  {
   "cell_type": "code",
   "execution_count": 5,
   "metadata": {},
   "outputs": [
    {
     "data": {
      "image/png": "[encoded data removed]",
      "text/plain": [
       "<Figure size 432x288 with 1 Axes>"
      ]
     },
     "metadata": {
      "needs_background": "light"
     },
     "output_type": "display_data"
    }
   ],
   "source": [
    "plt.hist(means, bins=50)\n",
    "plt.axvline(p * np.exp(mu + sigma_sq / 2))\n",
    "plt.show()"
   ]
  },
  {
   "cell_type": "code",
   "execution_count": 6,
   "metadata": {},
   "outputs": [
    {
     "data": {
      "text/plain": [
       "(0.0, 200.0)"
      ]
     },
     "execution_count": 6,
     "metadata": {},
     "output_type": "execute_result"
    },
    {
     "data": {
      "image/png": "[encoded data removed]",
      "text/plain": [
       "<Figure size 432x288 with 1 Axes>"
      ]
     },
     "metadata": {
      "needs_background": "light"
     },
     "output_type": "display_data"
    }
   ],
   "source": [
    "plt.hist(samples, bins=np.arange(0, 5000, 5))\n",
    "plt.xlim(0, 500)\n",
    "plt.ylim(0, 200)"
   ]
  },
  {
   "cell_type": "code",
   "execution_count": 7,
   "metadata": {},
   "outputs": [],
   "source": [
    "from abc import ABC, abstractmethod\n",
    "\n",
    "class Sampler(ABC):\n",
    "    \n",
    "    def __init__(self):\n",
    "        pass\n",
    "    \n",
    "    @abstractmethod\n",
    "    def theoretical_mean(self):\n",
    "        pass\n",
    "    \n",
    "    @abstractmethod\n",
    "    def theoretical_variance(self):\n",
    "        pass\n",
    "    \n",
    "    @abstractmethod\n",
    "    def get_samples(self):\n",
    "        pass\n",
    "    \n",
    "\n",
    "class ConversionSampler(Sampler):\n",
    "    def __init__(self, n: int, p: float):\n",
    "        super().__init__()\n",
    "        self.n = n\n",
    "        self.p = p\n",
    "        \n",
    "    def theoretial_mean(self):\n",
    "        return p\n",
    "    \n",
    "    def theoretical_variance(self):\n",
    "        return p * (1 - p)\n",
    "    \n",
    "    def get_samples(self):\n",
    "        return np.random.binomial(n=1, p=self.p, size=self.n)\n",
    "    \n",
    "\n",
    "class SpendSampler(Sampler):\n",
    "    def __init__(self, n: int, p: float, mu: float, sigma_sq: float):\n",
    "        super().__init__()\n",
    "        self.n = n\n",
    "        self.p = p\n",
    "        self.mu = mu\n",
    "        self.sigma_sq = sigma_sq\n",
    "        \n",
    "    def theoretical_mean(self):\n",
    "        return self.p * np.exp(self.mu + self.sigma_sq / 2)\n",
    "    \n",
    "    def theoretical_variance(self):\n",
    "        return(\n",
    "            p * (np.exp(self.sigma_sq) - 1) * np.exp(2 * self.mu + self.sigma_sq) +\n",
    "            (1-p) / p * self.theoretical_mean() ** 2)\n",
    "    \n",
    "    def get_samples(self):\n",
    "        return(\n",
    "            np.random.binomial(n=1, p=self.p, size=self.n) * \n",
    "            np.random.lognormal(mean=self.mu, sigma=np.sqrt(self.sigma_sq), size=self.n))"
   ]
  },
  {
   "cell_type": "code",
   "execution_count": 8,
   "metadata": {},
   "outputs": [
    {
     "data": {
      "image/png": "[encoded data removed]",
      "text/plain": [
       "<Figure size 432x288 with 1 Axes>"
      ]
     },
     "metadata": {
      "needs_background": "light"
     },
     "output_type": "display_data"
    },
    {
     "name": "stdout",
     "output_type": "stream",
     "text": [
      "61.172983066055096 60.91348985399079\n"
     ]
    }
   ],
   "source": [
    "mySampler = SpendSampler(n=10000, p=0.25, mu=5, sigma_sq=1)\n",
    "samples = mySampler.get_samples()\n",
    "\n",
    "plt.hist(samples, bins=range(0, 500, 5))\n",
    "plt.axvline(mySampler.theoretical_mean())\n",
    "plt.axvline(samples.mean())\n",
    "plt.ylim(0, 100)\n",
    "plt.show()\n",
    "\n",
    "print(mySampler.theoretical_mean(), samples.mean())"
   ]
  },
  {
   "cell_type": "markdown",
   "metadata": {},
   "source": [
    "# Power vs effect size curve for one-tailed vs. two-tailed experiments"
   ]
  },
  {
   "cell_type": "code",
   "execution_count": 9,
   "metadata": {},
   "outputs": [
    {
     "data": {
      "text/plain": [
       "(0.0, 1.0)"
      ]
     },
     "execution_count": 9,
     "metadata": {},
     "output_type": "execute_result"
    },
    {
     "data": {
      "image/png": "[encoded data removed]",
      "text/plain": [
       "<Figure size 432x288 with 1 Axes>"
      ]
     },
     "metadata": {
      "needs_background": "light"
     },
     "output_type": "display_data"
    }
   ],
   "source": [
    "import numpy as np\n",
    "from scipy.stats import norm\n",
    "\n",
    "series = np.arange(-10, 10, 0.01)\n",
    "sigma_D = 0.2\n",
    "alpha = 0.1\n",
    "\n",
    "plt.plot(series,\n",
    "         1 - norm.cdf(norm.ppf(1 - alpha / 2) - series / sigma_D) + norm.cdf(norm.ppf(alpha / 2) - series / sigma_D))\n",
    "\n",
    "plt.plot(series,\n",
    "         1 - norm.cdf(norm.ppf(1 - alpha / 2) - series / sigma_D))\n",
    "\n",
    "plt.plot(series,\n",
    "         norm.cdf(norm.ppf(alpha / 2) - series / sigma_D))\n",
    "\n",
    "# plt.plot(series, (1 - norm.cdf(norm.ppf(1 - alpha / 2) - series / sigma_D)) / \n",
    "#          (1 - norm.cdf(norm.ppf(1 - alpha / 2) - series / sigma_D) + norm.cdf(norm.ppf(alpha / 2) - series / sigma_D)))\n",
    "\n",
    "# plt.plot(series, (1 - norm.cdf(norm.ppf(1 - alpha / 2) - np.abs(series) / sigma_D)))\n",
    "\n",
    "plt.xlim(-1, 1)\n",
    "plt.ylim(0, 1)\n",
    "# plt.ylim(0, 3.25 * alpha)"
   ]
  },
  {
   "cell_type": "code",
   "execution_count": 10,
   "metadata": {},
   "outputs": [
    {
     "ename": "NameError",
     "evalue": "name 'scipy' is not defined",
     "output_type": "error",
     "traceback": [
      "\u001b[0;31m---------------------------------------------------------------------------\u001b[0m",
      "\u001b[0;31mNameError\u001b[0m                                 Traceback (most recent call last)",
      "\u001b[0;32m<ipython-input-10-0a01115e60cc>\u001b[0m in \u001b[0;36m<module>\u001b[0;34m\u001b[0m\n\u001b[0;32m----> 1\u001b[0;31m \u001b[0mscipy\u001b[0m\u001b[0;34m.\u001b[0m\u001b[0mstats\u001b[0m\u001b[0;34m.\u001b[0m\u001b[0mnormal\u001b[0m\u001b[0;34m\u001b[0m\u001b[0;34m\u001b[0m\u001b[0m\n\u001b[0m",
      "\u001b[0;31mNameError\u001b[0m: name 'scipy' is not defined"
     ]
    }
   ],
   "source": [
    "scipy.stats.normal"
   ]
  },
  {
   "cell_type": "code",
   "execution_count": null,
   "metadata": {},
   "outputs": [],
   "source": [
    "series"
   ]
  },
  {
   "cell_type": "markdown",
   "metadata": {},
   "source": [
    "# Some 3D visualisation to get my head around"
   ]
  },
  {
   "cell_type": "code",
   "execution_count": null,
   "metadata": {},
   "outputs": [],
   "source": [
    "# This import registers the 3D projection, but is otherwise unused.\n",
    "from mpl_toolkits.mplot3d import Axes3D  # noqa: F401 unused import\n",
    "\n",
    "import matplotlib.pyplot as plt\n",
    "from matplotlib import cm\n",
    "from matplotlib.ticker import LinearLocator, FormatStrFormatter\n",
    "import numpy as np\n",
    "\n",
    "\n",
    "fig = plt.figure()\n",
    "ax = fig.gca(projection='3d')\n",
    "\n",
    "# Make data.\n",
    "X = np.arange(100, 1000, 0.25)\n",
    "Y = np.arange(100, 1000, 0.25)\n",
    "X, Y = np.meshgrid(X, Y)\n",
    "Z = 2 * (1 + Y / X) ** 2\n",
    "\n",
    "# Plot the surface.\n",
    "surf = ax.plot_surface(X, Y, Z, cmap=cm.coolwarm,\n",
    "                       linewidth=0, antialiased=False)\n",
    "\n",
    "ax.set_xlabel('n_1')\n",
    "ax.set_ylabel('n_2')\n",
    "\n",
    "# Customize the z axis.\n",
    "ax.set_zlim(0, 200)\n",
    "ax.zaxis.set_major_locator(LinearLocator(10))\n",
    "ax.zaxis.set_major_formatter(FormatStrFormatter('%.02f'))\n",
    "\n",
    "# Add a color bar which maps values to colors.\n",
    "fig.colorbar(surf, shrink=0.5, aspect=5)\n",
    "\n",
    "plt.show()"
   ]
  },
  {
   "cell_type": "code",
   "execution_count": null,
   "metadata": {},
   "outputs": [],
   "source": [
    "fig = plt.figure()\n",
    "ax = fig.gca(projection='3d')\n",
    "\n",
    "# Make data.\n",
    "X = np.arange(100, 1000, 0.25)\n",
    "Y = np.arange(100, 1000, 0.25)\n",
    "X, Y = np.meshgrid(X, Y)\n",
    "Z = 2 * (1 + X / Y) ** 2\n",
    "\n",
    "# Plot the surface.\n",
    "surf = ax.plot_surface(X, Y, Z, cmap=cm.coolwarm,\n",
    "                       linewidth=0, antialiased=False)\n",
    "\n",
    "ax.set_xlabel('n_1')\n",
    "ax.set_ylabel('n_2')\n",
    "\n",
    "# Customize the z axis.\n",
    "ax.set_zlim(0, 200)\n",
    "ax.zaxis.set_major_locator(LinearLocator(10))\n",
    "ax.zaxis.set_major_formatter(FormatStrFormatter('%.02f'))\n",
    "\n",
    "# Add a color bar which maps values to colors.\n",
    "fig.colorbar(surf, shrink=0.5, aspect=5)\n",
    "\n",
    "plt.show()"
   ]
  },
  {
   "cell_type": "code",
   "execution_count": null,
   "metadata": {},
   "outputs": [],
   "source": [
    "fig = plt.figure()\n",
    "ax = fig.gca(projection='3d')\n",
    "\n",
    "# Make data.\n",
    "n1 = np.arange(100, 1000, 0.25)\n",
    "n2 = np.arange(100, 1000, 0.25)\n",
    "n1, n2 = np.meshgrid(n1, n2)\n",
    "Z = (2 * (1 + n2 / n1) ** 2 * n1 + 2 * (1 + n1 / n2) ** 2 * n2) / (n1 + n2)\n",
    "\n",
    "# Plot the surface.\n",
    "surf = ax.plot_surface(X, Y, Z, cmap=cm.coolwarm,\n",
    "                       linewidth=0, antialiased=False)\n",
    "\n",
    "ax.set_xlabel('n_1')\n",
    "ax.set_ylabel('n_2')\n",
    "\n",
    "# Customize the z axis.\n",
    "ax.set_zlim(0, 25)\n",
    "ax.zaxis.set_major_locator(LinearLocator(10))\n",
    "ax.zaxis.set_major_formatter(FormatStrFormatter('%.02f'))\n",
    "\n",
    "# Add a color bar which maps values to colors.\n",
    "fig.colorbar(surf, shrink=0.5, aspect=5)\n",
    "\n",
    "plt.show()"
   ]
  },
  {
   "cell_type": "markdown",
   "metadata": {},
   "source": [
    "# What are the realistic parameter samples for binary responses?"
   ]
  },
  {
   "cell_type": "code",
   "execution_count": null,
   "metadata": {},
   "outputs": [],
   "source": [
    "r = 4\n",
    "\n",
    "plt.plot(np.linspace(0, 1, 101), np.linspace(0, 1, 101) / r, c='g')\n",
    "plt.plot(np.linspace(0, 1, 101), r * np.linspace(0, 1, 101), c='r')\n",
    "\n",
    "plt.plot(np.linspace(0, 1, 101), 1 - r + r * np.linspace(0, 1, 101), c='g')\n",
    "plt.plot(np.linspace(0, 1, 101), (r - 1 + np.linspace(0, 1, 101)) / r, c='r')\n",
    "\n",
    "plt.plot(np.linspace(0, 1, 101), np.linspace(0, 1, 101), '--', c='black')\n",
    "\n",
    "plt.xlim(0, 1)\n",
    "plt.ylim(0, 1)"
   ]
  },
  {
   "cell_type": "code",
   "execution_count": null,
   "metadata": {},
   "outputs": [],
   "source": []
  }
 ],
 "metadata": {
  "kernelspec": {
   "display_name": "Python 3",
   "language": "python",
   "name": "python3"
  },
  "language_info": {
   "codemirror_mode": {
    "name": "ipython",
    "version": 3
   },
   "file_extension": ".py",
   "mimetype": "text/x-python",
   "name": "python",
   "nbconvert_exporter": "python",
   "pygments_lexer": "ipython3",
   "version": "3.7.3"
  }
 },
 "nbformat": 4,
 "nbformat_minor": 4
}
