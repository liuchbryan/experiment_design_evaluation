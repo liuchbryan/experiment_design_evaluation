{
 "cells": [
  {
   "cell_type": "markdown",
   "metadata": {},
   "source": [
    "This notebook contains the experimental results presented in Section 4 of the paper \"An evaluation framework for personalization strategy experiment design\", to appear in AdKDD 2020 workshop (in conjunction with SIGKDD'20, San Diego, CA, held virtually due to the COVID-19 pandemic).\n"
   ]
  },
  {
   "cell_type": "code",
   "execution_count": 2,
   "metadata": {},
   "outputs": [],
   "source": [
    "from matplotlib import pyplot as plt\n",
    "import numpy as np\n",
    "from pedeval.util import find_all_bootstrap_mean_evaluations"
   ]
  },
  {
   "cell_type": "markdown",
   "metadata": {},
   "source": [
    "# Actual Effect evaluations"
   ]
  },
  {
   "cell_type": "code",
   "execution_count": 3,
   "metadata": {},
   "outputs": [],
   "source": [
    "# Setting\n",
    "\n",
    "# design_actual_effect_evaluations = (\n",
    "#     find_all_bootstrap_mean_evaluations(in_dir='./output', \n",
    "#                                         expt_design_name='normal_intersectiononly', \n",
    "#                                         quantity_name='AE')\n",
    "# )\n",
    "\n",
    "design_actual_effect_evaluations = (\n",
    "    find_all_bootstrap_mean_evaluations(in_dir='./output', \n",
    "                                        expt_design_name='normal_allsample', \n",
    "                                        quantity_name='AE')\n",
    ")\n",
    "\n",
    "# design_actual_effect_evaluations = (\n",
    "#     find_all_bootstrap_mean_evaluations(in_dir='./output', \n",
    "#                                         expt_design_name='normal_qualifiedonly', \n",
    "#                                         quantity_name='AE')\n",
    "# )\n",
    "\n",
    "# design_actual_effect_evaluations = (\n",
    "#     find_all_bootstrap_mean_evaluations(in_dir='./output', \n",
    "#                                         expt_design_name='normal_dualcontrol', \n",
    "#                                         quantity_name='AE')\n",
    "# )"
   ]
  },
  {
   "cell_type": "code",
   "execution_count": 4,
   "metadata": {},
   "outputs": [
    {
     "name": "stdout",
     "output_type": "stream",
     "text": [
      "Number of eval with theoretical quantity in (1-alpha) BRCI: 853/999.\n"
     ]
    }
   ],
   "source": [
    "# Print how many evals have theoretical quantity within 1-alpha bootstrap CI\n",
    "\n",
    "n_in_bootstrap_CI = np.array([e.theoretical_value_within_centred_CI(0.05) \n",
    "                              for e in design_actual_effect_evaluations]).sum()\n",
    "n_eval = len(design_actual_effect_evaluations)\n",
    "\n",
    "print(f\"Number of eval with theoretical quantity in (1-alpha) BRCI: {n_in_bootstrap_CI}/{n_eval}.\")"
   ]
  },
  {
   "cell_type": "code",
   "execution_count": 5,
   "metadata": {},
   "outputs": [
    {
     "data": {
      "image/png": "[encoded data removed]",
      "text/plain": [
       "<Figure size 432x288 with 1 Axes>"
      ]
     },
     "metadata": {
      "needs_background": "light"
     },
     "output_type": "display_data"
    }
   ],
   "source": [
    "# Histogram of percentiles of theoretical values in relation to the bootstrap samples\n",
    "# if the theoretical quantity is right the histrogram should display a uniform distribution\n",
    "\n",
    "plt.hist([e.percentile_of_theoretical_value()\n",
    "          for e in design_actual_effect_evaluations], bins=np.arange(0, 102.5, 2.5))\n",
    "\n",
    "plt.show()"
   ]
  },
  {
   "cell_type": "code",
   "execution_count": 6,
   "metadata": {},
   "outputs": [
    {
     "name": "stdout",
     "output_type": "stream",
     "text": [
      "Number of samples - n_0: 15105, n_1: 4984, n_2: 119, n_3: 883\n",
      "Theoretical MDE Size: 0.09183805006777744\n"
     ]
    },
    {
     "data": {
      "image/png": "[encoded data removed]",
      "text/plain": [
       "<Figure size 432x288 with 1 Axes>"
      ]
     },
     "metadata": {
      "needs_background": "light"
     },
     "output_type": "display_data"
    }
   ],
   "source": [
    "# Individual experiment diagnostic plot\n",
    "eval_number = 2\n",
    "\n",
    "e = design_actual_effect_evaluations[eval_number]\n",
    "ee = e.experiment_design\n",
    "print(f\"Number of samples - n_0: {ee.n_0}, n_1: {ee.n_1}, n_2: {ee.n_2}, n_3: {ee.n_3}\")\n",
    "print(f\"Theoretical MDE Size: {ee.theoretical_mde_size()}\")\n",
    "# print(e.initial_samples)\n",
    "plt.hist(e.initial_samples, bins=40)\n",
    "plt.hist(e.bootstrap_mean_samples, bins=10, alpha=0.8)\n",
    "plt.axvline(e.get_theoretical_value())\n",
    "plt.show()"
   ]
  },
  {
   "cell_type": "markdown",
   "metadata": {},
   "source": [
    "# MDES evaluations"
   ]
  },
  {
   "cell_type": "code",
   "execution_count": 7,
   "metadata": {},
   "outputs": [],
   "source": [
    "# Setting\n",
    "\n",
    "# design_mde_size_evaluations = (\n",
    "#     find_all_bootstrap_mean_evaluations(in_dir='./output', \n",
    "#                                         expt_design_name='normal_intersectiononly', \n",
    "#                                         quantity_name='MDES')\n",
    "# )\n",
    "\n",
    "design_mde_size_evaluations = (\n",
    "    find_all_bootstrap_mean_evaluations(in_dir='./output', \n",
    "                                        expt_design_name='normal_allsample', \n",
    "                                        quantity_name='MDES')\n",
    ")\n",
    "\n",
    "# design_mde_size_evaluations = (\n",
    "#     find_all_bootstrap_mean_evaluations(in_dir='./output', \n",
    "#                                         expt_design_name='normal_qualifiedonly', \n",
    "#                                         quantity_name='MDES')\n",
    "# )\n",
    "\n",
    "# design_mde_size_evaluations = (\n",
    "#     find_all_bootstrap_mean_evaluations(in_dir='./output', \n",
    "#                                         expt_design_name='normal_dualcontrol', \n",
    "#                                         quantity_name='MDES')\n",
    "# )\n"
   ]
  },
  {
   "cell_type": "code",
   "execution_count": 8,
   "metadata": {},
   "outputs": [
    {
     "name": "stdout",
     "output_type": "stream",
     "text": [
      "Number of eval with theoretical quantity in (1-alpha) BRCI: 87/106.\n"
     ]
    }
   ],
   "source": [
    "# Print how many evals have theoretical quantity within 1-alpha bootstrap CI\n",
    "\n",
    "n_in_bootstrap_CI = np.array([e.theoretical_value_within_centred_CI(0.05) \n",
    "                              for e in design_mde_size_evaluations]).sum()\n",
    "n_eval = len(design_mde_size_evaluations)\n",
    "\n",
    "print(f\"Number of eval with theoretical quantity in (1-alpha) BRCI: {n_in_bootstrap_CI}/{n_eval}.\")"
   ]
  },
  {
   "cell_type": "code",
   "execution_count": 9,
   "metadata": {},
   "outputs": [
    {
     "data": {
      "image/png": "[encoded data removed]",
      "text/plain": [
       "<Figure size 432x288 with 1 Axes>"
      ]
     },
     "metadata": {
      "needs_background": "light"
     },
     "output_type": "display_data"
    }
   ],
   "source": [
    "# Histogram of percentiles of theoretical values in relation to the bootstrap samples\n",
    "# if the theoretical quantity is right the histrogram should display a normal distribution\n",
    "\n",
    "plt.hist([e.percentile_of_theoretical_value()\n",
    "          for e in design_mde_size_evaluations], bins=np.arange(0, 102.5, 2.5))\n",
    "\n",
    "plt.show()"
   ]
  },
  {
   "cell_type": "code",
   "execution_count": 10,
   "metadata": {},
   "outputs": [
    {
     "name": "stdout",
     "output_type": "stream",
     "text": [
      "Number of samples - n_0: 433, n_1: 1414, n_2: 108, n_3: 14623\n",
      "Theoretical MDE Size: 0.08274573122662768\n",
      "Indicated % overestimate: -0.07654361471960348\n"
     ]
    },
    {
     "data": {
      "image/png": "[encoded data removed]",
      "text/plain": [
       "<Figure size 432x288 with 1 Axes>"
      ]
     },
     "metadata": {
      "needs_background": "light"
     },
     "output_type": "display_data"
    }
   ],
   "source": [
    "# Individual evaluation diagnostic plot\n",
    "eval_number = 0\n",
    "\n",
    "e = design_mde_size_evaluations[eval_number]\n",
    "ee = e.experiment_design\n",
    "print(f\"Number of samples - n_0: {ee.n_0}, n_1: {ee.n_1}, n_2: {ee.n_2}, n_3: {ee.n_3}\")\n",
    "print(f\"Theoretical MDE Size: {ee.theoretical_mde_size()}\")\n",
    "\n",
    "indicated_pct_overestimate = \\\n",
    "    (ee.theoretical_mde_size() - np.mean(e.bootstrap_mean_samples)) / np.mean(e.bootstrap_mean_samples) * 100\n",
    "print(f\"Indicated % overestimate: {indicated_pct_overestimate}\")\n",
    "# print(e.initial_samples)\n",
    "plt.hist(e.initial_samples)\n",
    "plt.hist(e.bootstrap_mean_samples, bins=40, alpha=0.8)\n",
    "plt.axvline(e.get_theoretical_value())\n",
    "plt.show()"
   ]
  },
  {
   "cell_type": "code",
   "execution_count": 11,
   "metadata": {},
   "outputs": [
    {
     "data": {
      "text/plain": [
       "(array([ 4.,  4.,  7., 14., 18., 23., 11., 14.,  5.,  6.]),\n",
       " array([-0.41310286, -0.30007422, -0.18704557, -0.07401693,  0.03901171,\n",
       "         0.15204035,  0.26506899,  0.37809763,  0.49112628,  0.60415492,\n",
       "         0.71718356]),\n",
       " <a list of 10 Patch objects>)"
      ]
     },
     "execution_count": 11,
     "metadata": {},
     "output_type": "execute_result"
    },
    {
     "data": {
      "image/png": "[encoded data removed]",
      "text/plain": [
       "<Figure size 432x288 with 1 Axes>"
      ]
     },
     "metadata": {
      "needs_background": "light"
     },
     "output_type": "display_data"
    }
   ],
   "source": [
    "# Histogram of over/underestimates across all evaluations of the same quantity\n",
    "\n",
    "percent_overestimate = [\n",
    "    (e.experiment_design.theoretical_mde_size() - np.mean(e.bootstrap_mean_samples)) / \n",
    "    np.mean(e.bootstrap_mean_samples) * 100\n",
    "    for e in design_mde_size_evaluations\n",
    "]\n",
    "\n",
    "plt.hist(percent_overestimate)"
   ]
  },
  {
   "cell_type": "code",
   "execution_count": null,
   "metadata": {},
   "outputs": [],
   "source": []
  }
 ],
 "metadata": {
  "kernelspec": {
   "display_name": "Python 3",
   "language": "python",
   "name": "python3"
  },
  "language_info": {
   "codemirror_mode": {
    "name": "ipython",
    "version": 3
   },
   "file_extension": ".py",
   "mimetype": "text/x-python",
   "name": "python",
   "nbconvert_exporter": "python",
   "pygments_lexer": "ipython3",
   "version": "3.7.3"
  }
 },
 "nbformat": 4,
 "nbformat_minor": 4
}
