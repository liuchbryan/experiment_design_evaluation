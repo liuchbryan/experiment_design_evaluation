{
 "cells": [
  {
   "cell_type": "markdown",
   "metadata": {},
   "source": [
    "We evaluate the theoretical values derived for various experiment designs."
   ]
  },
  {
   "cell_type": "code",
   "execution_count": 2,
   "metadata": {},
   "outputs": [],
   "source": [
    "from pedeval.experiment_design import (\n",
    "    BinaryResponseRateED, AllSampleBRRED, QualifiedOnlyBRRED)\n",
    "from pedeval.evaluation import (\n",
    "    BootstrapMeanEvaluation, EDActualEffectEvaluation, EDMDESizeEvaluation) \n",
    "from pedeval.util import find_all_bootstrap_mean_evaluations\n",
    "import numpy as np\n",
    "import time\n",
    "import pickle\n",
    "from typing import List"
   ]
  },
  {
   "cell_type": "code",
   "execution_count": 3,
   "metadata": {},
   "outputs": [],
   "source": [
    "np.random.seed(int(time.time()))"
   ]
  },
  {
   "cell_type": "code",
   "execution_count": 4,
   "metadata": {},
   "outputs": [],
   "source": [
    "def save_evaluation_collection(eval_collection: List[BootstrapMeanEvaluation], \n",
    "                               in_dir: str = './output',\n",
    "                               expt_design_name: str = 'default',\n",
    "                               quantity_name: str = 'default') -> None:\n",
    "    \"\"\"\n",
    "    Save given `eval_collection` as a pickle file in `in_dir`\n",
    "    :param eval_collection: List of evaluations\n",
    "    :param in_dir: Output directory\n",
    "    :return: None\n",
    "    \"\"\"\n",
    "    if eval_collection is None or len(eval_collection) == 0:\n",
    "        return\n",
    "\n",
    "    file_path = f\"{in_dir}/{expt_design_name}_{quantity_name}_{int(time.time())}.pickle\"\n",
    "    pickle_file = open(file_path, 'wb')\n",
    "    pickle.dump(eval_collection, pickle_file)\n",
    "\n",
    "    print(f\"The test collection is saved at {file_path}.\")"
   ]
  },
  {
   "cell_type": "code",
   "execution_count": null,
   "metadata": {},
   "outputs": [],
   "source": [
    "def unrealistic_experiment_design_params(experiment_design: ExperimentDesign,\n",
    "                                         r: int) -> bool:\n",
    "    \"\"\"\n",
    "    \n",
    "    \"\"\""
   ]
  },
  {
   "cell_type": "markdown",
   "metadata": {},
   "source": [
    "# Design 2 (Actual Effect)"
   ]
  },
  {
   "cell_type": "code",
   "execution_count": 4,
   "metadata": {},
   "outputs": [
    {
     "name": "stdout",
     "output_type": "stream",
     "text": [
      "The test collection is saved at ./output/all_sample_AE_1591749592.pickle.\n"
     ]
    }
   ],
   "source": [
    "N_RUN = 1000\n",
    "\n",
    "design2_actual_effect_evaluations = []\n",
    "for run in range(0, N_RUN):\n",
    "    print(f\"Processing run {run+1}/{N_RUN}...\", end=\"\\r\")\n",
    "\n",
    "    design2 = (\n",
    "        AllSampleBRRED(\n",
    "            p_C0=np.random.uniform(0, 1),\n",
    "            p_C1=np.random.uniform(0, 1),\n",
    "            p_I1=np.random.uniform(0, 1),\n",
    "            p_C2=np.random.uniform(0, 1),\n",
    "            p_I2=np.random.uniform(0, 1),\n",
    "            p_C3=np.random.uniform(0, 1),\n",
    "            p_Iphi=np.random.uniform(0, 1),\n",
    "            p_Ipsi=np.random.uniform(0, 1),\n",
    "            n_0=int(50 * 10**np.random.uniform(0, 3)),\n",
    "            n_1=int(50 * 10**np.random.uniform(0, 3)),\n",
    "            n_2=int(50 * 10**np.random.uniform(0, 3)),\n",
    "            n_3=int(50 * 10**np.random.uniform(0, 3)),\n",
    "            alpha=0.05, pi_min=0.8\n",
    "        )\n",
    "    )\n",
    "\n",
    "    design2_actual_effect_evaluation = (\n",
    "        EDActualEffectEvaluation(design2, n_init_samples=1000, n_bootstrap_mean_samples=200))\n",
    "    design2_actual_effect_evaluation.run()\n",
    "    design2_actual_effect_evaluations.append(design2_actual_effect_evaluation)\n",
    "\n",
    "save_evaluation_collection(design2_actual_effect_evaluations, \n",
    "                           in_dir='./output', expt_design_name=\"all_sample\",\n",
    "                           quantity_name=\"AE\")"
   ]
  },
  {
   "cell_type": "code",
   "execution_count": 5,
   "metadata": {},
   "outputs": [
    {
     "data": {
      "text/plain": [
       "930"
      ]
     },
     "execution_count": 5,
     "metadata": {},
     "output_type": "execute_result"
    }
   ],
   "source": [
    "np.array([e.theoretical_value_within_centred_CI(0.05) \n",
    "          for e in design2_actual_effect_evaluations]).sum()"
   ]
  },
  {
   "cell_type": "markdown",
   "metadata": {},
   "source": [
    "# Design 2 (MDE Size)\n",
    "\n",
    "Warning: Long run-time process"
   ]
  },
  {
   "cell_type": "code",
   "execution_count": 8,
   "metadata": {},
   "outputs": [
    {
     "name": "stdout",
     "output_type": "stream",
     "text": [
      "The test collection is saved at ./output/all_sample_MDES_1591826658.pickle.\n"
     ]
    }
   ],
   "source": [
    "N_RUN = 10\n",
    "\n",
    "design2_mde_size_evaluations = []\n",
    "for run in range(0, N_RUN):\n",
    "    print(f\"Processing run {run+1}/{N_RUN}...\", end=\"\\r\")\n",
    "\n",
    "    design2 = (\n",
    "        AllSampleBRRED(\n",
    "            p_C0=np.random.uniform(0, 1),\n",
    "            p_C1=np.random.uniform(0, 1),\n",
    "            p_I1=np.random.uniform(0, 1),\n",
    "            p_C2=np.random.uniform(0, 1),\n",
    "            p_I2=np.random.uniform(0, 1),\n",
    "            p_C3=np.random.uniform(0, 1),\n",
    "            p_Iphi=np.random.uniform(0, 1),\n",
    "            p_Ipsi=np.random.uniform(0, 1),\n",
    "            n_0=int(50 * 10**np.random.uniform(0, 3)),\n",
    "            n_1=int(50 * 10**np.random.uniform(0, 3)),\n",
    "            n_2=int(50 * 10**np.random.uniform(0, 3)),\n",
    "            n_3=int(50 * 10**np.random.uniform(0, 3)),\n",
    "            alpha=0.05, pi_min=0.8\n",
    "        )\n",
    "    )\n",
    "\n",
    "    design2_mde_size_evaluation = (\n",
    "        EDMDESizeEvaluation(design2, n_init_samples=100, n_bootstrap_mean_samples=1000))\n",
    "    design2_mde_size_evaluation.run(verbose=True)\n",
    "    design2_mde_size_evaluations.append(design2_mde_size_evaluation)\n",
    "\n",
    "save_evaluation_collection(design2_mde_size_evaluations, \n",
    "                           in_dir='./output', expt_design_name=\"all_sample\",\n",
    "                           quantity_name=\"MDES\")"
   ]
  },
  {
   "cell_type": "code",
   "execution_count": 32,
   "metadata": {},
   "outputs": [
    {
     "data": {
      "text/plain": [
       "2"
      ]
     },
     "execution_count": 32,
     "metadata": {},
     "output_type": "execute_result"
    }
   ],
   "source": [
    "design3_mde_size_evaluations = \\\n",
    "find_all_bootstrap_mean_evaluations(in_dir='./output', expt_design_name='normal_qualifiedonly', quantity_name='MDES')\n",
    "\n",
    "np.array([e.theoretical_value_within_centred_CI(0.025) \n",
    "          for e in design3_mde_size_evaluations]).sum()"
   ]
  },
  {
   "cell_type": "code",
   "execution_count": 29,
   "metadata": {},
   "outputs": [
    {
     "name": "stdout",
     "output_type": "stream",
     "text": [
      "1447 1062 277 3898\n",
      "0.17037402551716993\n",
      "[0.16514229638403363, 0.16231821100311622, 0.17351577687089298, 0.16971131751039614, 0.16810614863979087, 0.1691359011554241, 0.17009551573576226, 0.16983408741761621, 0.16728097816233248, 0.17198368503385342, 0.17212130570276427, 0.16913102953108966, 0.16435201849317574, 0.1726053771047816, 0.17023134645176724, 0.16643085512129535, 0.16458069168900624, 0.1636220727304086, 0.16833213852831827, 0.17260072666449874, 0.1734973786095235, 0.16301502874092078, 0.17083200915082972, 0.17634976387511506, 0.17525454672934465, 0.16788205492310496, 0.17720582473964494, 0.17935170742007872, 0.16804893221406744, 0.1670077375809231, 0.16528837797241355, 0.17080902848745128, 0.17046158013159357, 0.16992852530794472, 0.16495508587167992, 0.17085485162246863, 0.16687325795421984, 0.164510567675243, 0.17615556874464502, 0.16863295272559473, 0.16400817780973057, 0.16703880620885314, 0.1710475017861302, 0.1680456527415621, 0.1634899225849972, 0.16786078495996323, 0.16488182955043787, 0.16793176274673471, 0.17459228106745936, 0.17102705581661232]\n"
     ]
    },
    {
     "data": {
      "image/png": "[encoded data removed]",
      "text/plain": [
       "<Figure size 432x288 with 1 Axes>"
      ]
     },
     "metadata": {
      "needs_background": "light"
     },
     "output_type": "display_data"
    }
   ],
   "source": [
    "from matplotlib import pyplot as plt\n",
    "e= design3_mde_size_evaluations[1]\n",
    "ee=e.experiment_design\n",
    "print(ee.n_0, ee.n_1, ee.n_2, ee.n_3)\n",
    "# print(ee.p_C0, ee.p_I1, ee.p_C2, ee.p_Iphi)\n",
    "# print(ee.p_C0, ee.p_C1, ee.p_I2, ee.p_Ipsi)\n",
    "print(ee.theoretical_mde_size())\n",
    "print(e.initial_samples)\n",
    "plt.hist(e.initial_samples)\n",
    "plt.hist(e.bootstrap_mean_samples, bins=50)\n",
    "plt.axvline(e.get_theoretical_value())\n",
    "plt.show()"
   ]
  },
  {
   "cell_type": "markdown",
   "metadata": {},
   "source": [
    "# Design 3 (Actual effect)"
   ]
  },
  {
   "cell_type": "code",
   "execution_count": 6,
   "metadata": {},
   "outputs": [
    {
     "name": "stdout",
     "output_type": "stream",
     "text": [
      "The test collection is saved at ./output/qualified_only_AE_1591750472.pickle.\n"
     ]
    }
   ],
   "source": [
    "N_RUN = 1000\n",
    "\n",
    "design3_actual_effect_evaluations = []\n",
    "for run in range(0, N_RUN):\n",
    "    print(f\"Processing run {run+1}/{N_RUN}...\", end=\"\\r\")\n",
    "\n",
    "    design3 = (\n",
    "        QualifiedOnlyBRRED(\n",
    "            p_C0=np.random.uniform(0, 1),\n",
    "            p_C1=np.random.uniform(0, 1),\n",
    "            p_I1=np.random.uniform(0, 1),\n",
    "            p_C2=np.random.uniform(0, 1),\n",
    "            p_I2=np.random.uniform(0, 1),\n",
    "            p_C3=np.random.uniform(0, 1),\n",
    "            p_Iphi=np.random.uniform(0, 1),\n",
    "            p_Ipsi=np.random.uniform(0, 1),\n",
    "            n_0=int(50 * 10**np.random.uniform(0, 3)),\n",
    "            n_1=int(50 * 10**np.random.uniform(0, 3)),\n",
    "            n_2=int(50 * 10**np.random.uniform(0, 3)),\n",
    "            n_3=int(50 * 10**np.random.uniform(0, 3)),\n",
    "            alpha=0.05, pi_min=0.8\n",
    "        )\n",
    "    )\n",
    "\n",
    "    design3_actual_effect_evaluation = (\n",
    "        EDActualEffectEvaluation(design3, n_init_samples=1000, n_bootstrap_mean_samples=200))\n",
    "    design3_actual_effect_evaluation.run()\n",
    "    design3_actual_effect_evaluations.append(design3_actual_effect_evaluation)\n",
    "\n",
    "save_evaluation_collection(design3_actual_effect_evaluations, \n",
    "                           in_dir='./output', expt_design_name=\"qualified_only\",\n",
    "                           quantity_name=\"AE\")"
   ]
  },
  {
   "cell_type": "code",
   "execution_count": 7,
   "metadata": {},
   "outputs": [
    {
     "data": {
      "text/plain": [
       "941"
      ]
     },
     "execution_count": 7,
     "metadata": {},
     "output_type": "execute_result"
    }
   ],
   "source": [
    "np.array([e.theoretical_value_within_centred_CI(0.05) \n",
    "          for e in design3_actual_effect_evaluations]).sum()"
   ]
  },
  {
   "cell_type": "markdown",
   "metadata": {},
   "source": [
    "# Design 3 (MDE Size)\n",
    "\n",
    "Warning: Long run-time process"
   ]
  },
  {
   "cell_type": "code",
   "execution_count": 167,
   "metadata": {},
   "outputs": [
    {
     "name": "stdout",
     "output_type": "stream",
     "text": [
      "Processing run 1/1...\n",
      "The test collection is saved at ./output/qualified_only_MDES_1591884590.pickle.\n"
     ]
    }
   ],
   "source": [
    "N_RUN = 1\n",
    "\n",
    "design3_mde_size_evaluations = []\n",
    "for run in range(0, N_RUN):\n",
    "    print(f\"Processing run {run+1}/{N_RUN}...\")\n",
    "\n",
    "    design3 = (\n",
    "        QualifiedOnlyBRRED(\n",
    "            p_C0=np.random.uniform(0, 1),\n",
    "            p_C1=np.random.uniform(0, 1),\n",
    "            p_I1=np.random.uniform(0, 1),\n",
    "            p_C2=np.random.uniform(0, 1),\n",
    "            p_I2=np.random.uniform(0, 1),\n",
    "            p_C3=np.random.uniform(0, 1),\n",
    "            p_Iphi=np.random.uniform(0, 1),\n",
    "            p_Ipsi=np.random.uniform(0, 1),\n",
    "            n_0=int(50 * 10**np.random.uniform(0, 3)),\n",
    "            n_1=int(50 * 10**np.random.uniform(0, 3)),\n",
    "            n_2=int(50 * 10**np.random.uniform(0, 3)),\n",
    "            n_3=int(50 * 10**np.random.uniform(0, 3)),\n",
    "            alpha=0.05, pi_min=0.8\n",
    "        )\n",
    "    )\n",
    "\n",
    "    design3_mde_size_evaluation = (\n",
    "        EDMDESizeEvaluation(design3, n_init_samples=50, n_bootstrap_mean_samples=1000))\n",
    "    design3_mde_size_evaluation.run(verbose=True)\n",
    "    design3_mde_size_evaluations.append(design3_mde_size_evaluation)\n",
    "\n",
    "save_evaluation_collection(design3_mde_size_evaluations, \n",
    "                           in_dir='./output', expt_design_name=\"qualified_only\",\n",
    "                           quantity_name=\"MDES\")"
   ]
  },
  {
   "cell_type": "code",
   "execution_count": 169,
   "metadata": {},
   "outputs": [
    {
     "data": {
      "text/plain": [
       "1"
      ]
     },
     "execution_count": 169,
     "metadata": {},
     "output_type": "execute_result"
    }
   ],
   "source": [
    "np.array([e.theoretical_value_within_centred_CI(0.05) \n",
    "          for e in design3_mde_size_evaluations]).sum()"
   ]
  },
  {
   "cell_type": "code",
   "execution_count": 170,
   "metadata": {},
   "outputs": [
    {
     "name": "stdout",
     "output_type": "stream",
     "text": [
      "174 778 32280 2553\n",
      "0.2922551508826693 0.0594397435646552 0.48439786597109213 0.26191791782453644\n",
      "0.2922551508826693 0.7862663670631802 0.5907020295720418 0.8428742668664274\n",
      "0.014451868001271259\n"
     ]
    },
    {
     "data": {
      "image/png": "[encoded data removed]",
      "text/plain": [
       "<Figure size 432x288 with 1 Axes>"
      ]
     },
     "metadata": {
      "needs_background": "light"
     },
     "output_type": "display_data"
    }
   ],
   "source": [
    "from matplotlib import pyplot as plt\n",
    "e= design3_mde_size_evaluation\n",
    "ee=e.experiment_design\n",
    "print(ee.n_0, ee.n_1, ee.n_2, ee.n_3)\n",
    "print(ee.p_C0, ee.p_I1, ee.p_C2, ee.p_Iphi)\n",
    "print(ee.p_C0, ee.p_C1, ee.p_I2, ee.p_Ipsi)\n",
    "print(ee.theoretical_mde_size())\n",
    "plt.hist(design3_mde_size_evaluation.initial_samples)\n",
    "plt.hist(design3_mde_size_evaluation.bootstrap_mean_samples)\n",
    "plt.axvline(design3_mde_size_evaluation.get_theoretical_value())\n",
    "plt.show()"
   ]
  },
  {
   "cell_type": "code",
   "execution_count": 72,
   "metadata": {},
   "outputs": [
    {
     "data": {
      "text/plain": [
       "0.8160000000000001"
      ]
     },
     "execution_count": 72,
     "metadata": {},
     "output_type": "execute_result"
    }
   ],
   "source": [
    "ee._simulated_power(0.035,\n",
    "                    0.023761,\n",
    "                    500)"
   ]
  },
  {
   "cell_type": "code",
   "execution_count": 156,
   "metadata": {},
   "outputs": [],
   "source": [
    "group_a_mean_responses = []\n",
    "group_b_mean_responses = []\n",
    "null_metric_samples = []\n",
    "\n",
    "# Metric distribution under null hypothesis\n",
    "for sample in range(0, 1000):\n",
    "    group_a_responses = ee.get_group_a_samples()\n",
    "    group_b_responses_null = ee.get_group_b_samples_by_effect(effect=0)\n",
    "\n",
    "    group_a_mean_responses.append(np.mean(group_a_responses))\n",
    "    group_b_mean_responses.append(np.mean(group_b_responses_null))\n",
    "    null_metric_samples.append(np.mean(group_b_responses_null) - np.mean(group_a_responses))\n",
    "\n",
    "null_critical_value = np.percentile(null_metric_samples, (1 - ee.alpha / 2) * 100)"
   ]
  },
  {
   "cell_type": "code",
   "execution_count": 162,
   "metadata": {},
   "outputs": [
    {
     "data": {
      "text/plain": [
       "8.371860105057852e-05"
      ]
     },
     "execution_count": 162,
     "metadata": {},
     "output_type": "execute_result"
    }
   ],
   "source": [
    "(2 * (ee.n_1*ee.p_I1*(1-ee.p_I1) + ee.n_2*ee.p_C2*(1-ee.p_C2) + ee.n_3*ee.p_Iphi*(1-ee.p_Iphi)) / \n",
    " (ee.n_1 + ee.n_2 + ee.n_3) ** 2)"
   ]
  },
  {
   "cell_type": "code",
   "execution_count": 163,
   "metadata": {},
   "outputs": [
    {
     "data": {
      "text/plain": [
       "0.00018898772269172336"
      ]
     },
     "execution_count": 163,
     "metadata": {},
     "output_type": "execute_result"
    }
   ],
   "source": [
    "(2 * (ee.n_1*ee.p_C1*(1-ee.p_C1) + ee.n_2*ee.p_I2*(1-ee.p_I2) + ee.n_3*ee.p_Ipsi*(1-ee.p_Ipsi)) / \n",
    " (ee.n_1 + ee.n_2 + ee.n_3) ** 2)"
   ]
  },
  {
   "cell_type": "code",
   "execution_count": 157,
   "metadata": {},
   "outputs": [
    {
     "data": {
      "text/plain": [
       "0.00027301519615431056"
      ]
     },
     "execution_count": 157,
     "metadata": {},
     "output_type": "execute_result"
    }
   ],
   "source": [
    "(ee.theoretical_mde_size() / 2.8) ** 2"
   ]
  },
  {
   "cell_type": "code",
   "execution_count": 158,
   "metadata": {},
   "outputs": [
    {
     "name": "stdout",
     "output_type": "stream",
     "text": [
      "8.517883064365827e-05\n",
      "8.574240570162124e-05\n"
     ]
    }
   ],
   "source": [
    "print(np.var(group_a_mean_responses))\n",
    "print(np.var(group_b_mean_responses))"
   ]
  },
  {
   "cell_type": "code",
   "execution_count": 129,
   "metadata": {},
   "outputs": [
    {
     "data": {
      "text/plain": [
       "array([[ 8.37495877e-05, -2.49915130e-06],\n",
       "       [-2.49915130e-06,  8.48290932e-05]])"
      ]
     },
     "execution_count": 129,
     "metadata": {},
     "output_type": "execute_result"
    }
   ],
   "source": [
    "np.cov(group_a_mean_responses, group_b_mean_responses)"
   ]
  },
  {
   "cell_type": "code",
   "execution_count": 137,
   "metadata": {},
   "outputs": [
    {
     "data": {
      "text/plain": [
       "0.0001600841685650416"
      ]
     },
     "execution_count": 137,
     "metadata": {},
     "output_type": "execute_result"
    }
   ],
   "source": [
    "np.var(null_metric_samples)"
   ]
  },
  {
   "cell_type": "code",
   "execution_count": 139,
   "metadata": {},
   "outputs": [
    {
     "data": {
      "text/plain": [
       "(array([ 1.,  0.,  0.,  0.,  1.,  1.,  4.,  2.,  4.,  2.,  4.,  7., 13.,\n",
       "         4.,  8., 11., 33., 30., 20., 51., 51., 28., 67., 34., 63., 64.,\n",
       "        30., 66., 33., 49., 51., 21., 46., 37., 24., 30., 16., 16., 25.,\n",
       "         5., 15., 15.,  3.,  9.,  2.,  2.,  0.,  0.,  1.,  1.]),\n",
       " array([-0.04437564, -0.04270382, -0.04103199, -0.03936017, -0.03768834,\n",
       "        -0.03601651, -0.03434469, -0.03267286, -0.03100103, -0.02932921,\n",
       "        -0.02765738, -0.02598555, -0.02431373, -0.0226419 , -0.02097007,\n",
       "        -0.01929825, -0.01762642, -0.01595459, -0.01428277, -0.01261094,\n",
       "        -0.01093911, -0.00926729, -0.00759546, -0.00592363, -0.00425181,\n",
       "        -0.00257998, -0.00090815,  0.00076367,  0.0024355 ,  0.00410733,\n",
       "         0.00577915,  0.00745098,  0.00912281,  0.01079463,  0.01246646,\n",
       "         0.01413829,  0.01581011,  0.01748194,  0.01915377,  0.02082559,\n",
       "         0.02249742,  0.02416925,  0.02584107,  0.0275129 ,  0.02918473,\n",
       "         0.03085655,  0.03252838,  0.03420021,  0.03587203,  0.03754386,\n",
       "         0.03921569]),\n",
       " <a list of 50 Patch objects>)"
      ]
     },
     "execution_count": 139,
     "metadata": {},
     "output_type": "execute_result"
    },
    {
     "data": {
      "image/png": "[encoded data removed]",
      "text/plain": [
       "<Figure size 432x288 with 1 Axes>"
      ]
     },
     "metadata": {
      "needs_background": "light"
     },
     "output_type": "display_data"
    }
   ],
   "source": [
    "plt.hist(null_metric_samples, bins=50)"
   ]
  },
  {
   "cell_type": "code",
   "execution_count": 49,
   "metadata": {},
   "outputs": [
    {
     "name": "stdout",
     "output_type": "stream",
     "text": [
      "0.49983356496190606\n",
      "0.45703138296584356\n",
      "0.49990387388164553\n"
     ]
    }
   ],
   "source": [
    "print(np.sqrt(np.var(ee.get_group_a_samples())))\n",
    "print(np.sqrt(np.var(ee.get_group_b_samples_by_spec())))\n",
    "print(np.sqrt(np.var(ee.get_group_b_samples_by_effect(0))))"
   ]
  },
  {
   "cell_type": "code",
   "execution_count": 53,
   "metadata": {},
   "outputs": [
    {
     "name": "stdout",
     "output_type": "stream",
     "text": [
      "0.010317368455600839\n",
      "0.009901311293983145\n"
     ]
    }
   ],
   "source": [
    "print(np.sqrt(2 * np.var(ee.get_group_a_samples())/ (2757+793+635+512)))\n",
    "print(np.sqrt(np.var(ee.get_group_a_samples())/ (2757+793+635+512) + \n",
    "              np.var(ee.get_group_b_samples_by_spec()) / (2757+793+635+512)))"
   ]
  },
  {
   "cell_type": "code",
   "execution_count": 51,
   "metadata": {},
   "outputs": [
    {
     "name": "stdout",
     "output_type": "stream",
     "text": [
      "0.49999760372859836\n"
     ]
    }
   ],
   "source": [
    "print(np.sqrt(np.var(ee.get_group_b_samples_by_effect(0))))"
   ]
  },
  {
   "cell_type": "code",
   "execution_count": 140,
   "metadata": {},
   "outputs": [
    {
     "data": {
      "text/plain": [
       "0.024793601651186777"
      ]
     },
     "execution_count": 140,
     "metadata": {},
     "output_type": "execute_result"
    }
   ],
   "source": [
    "null_critical_value"
   ]
  },
  {
   "cell_type": "code",
   "execution_count": 175,
   "metadata": {},
   "outputs": [
    {
     "data": {
      "text/plain": [
       "(0.0, 1.0)"
      ]
     },
     "execution_count": 175,
     "metadata": {},
     "output_type": "execute_result"
    },
    {
     "data": {
      "image/png": "[encoded data removed]",
      "text/plain": [
       "<Figure size 432x288 with 1 Axes>"
      ]
     },
     "metadata": {
      "needs_background": "light"
     },
     "output_type": "display_data"
    }
   ],
   "source": [
    "r = 4\n",
    "\n",
    "plt.plot(np.linspace(0, 1, 101), np.linspace(0, 1, 101) / r, c='g')\n",
    "plt.plot(np.linspace(0, 1, 101), r * np.linspace(0, 1, 101), c='r')\n",
    "\n",
    "plt.plot(np.linspace(0, 1, 101), 1 - r + r * np.linspace(0, 1, 101), c='g')\n",
    "plt.plot(np.linspace(0, 1, 101), (r - 1 + np.linspace(0, 1, 101)) / r, c='r')\n",
    "\n",
    "plt.plot(np.linspace(0, 1, 101), np.linspace(0, 1, 101), '--', c='black')\n",
    "\n",
    "plt.xlim(0, 1)\n",
    "plt.ylim(0, 1)"
   ]
  },
  {
   "cell_type": "code",
   "execution_count": 34,
   "metadata": {},
   "outputs": [
    {
     "data": {
      "text/plain": [
       "array([0.        , 0.01010101, 0.02020202, 0.03030303, 0.04040404,\n",
       "       0.05050505, 0.06060606, 0.07070707, 0.08080808, 0.09090909,\n",
       "       0.1010101 , 0.11111111, 0.12121212, 0.13131313, 0.14141414,\n",
       "       0.15151515, 0.16161616, 0.17171717, 0.18181818, 0.19191919,\n",
       "       0.2020202 , 0.21212121, 0.22222222, 0.23232323, 0.24242424,\n",
       "       0.25252525, 0.26262626, 0.27272727, 0.28282828, 0.29292929,\n",
       "       0.3030303 , 0.31313131, 0.32323232, 0.33333333, 0.34343434,\n",
       "       0.35353535, 0.36363636, 0.37373737, 0.38383838, 0.39393939,\n",
       "       0.4040404 , 0.41414141, 0.42424242, 0.43434343, 0.44444444,\n",
       "       0.45454545, 0.46464646, 0.47474747, 0.48484848, 0.49494949,\n",
       "       0.50505051, 0.51515152, 0.52525253, 0.53535354, 0.54545455,\n",
       "       0.55555556, 0.56565657, 0.57575758, 0.58585859, 0.5959596 ,\n",
       "       0.60606061, 0.61616162, 0.62626263, 0.63636364, 0.64646465,\n",
       "       0.65656566, 0.66666667, 0.67676768, 0.68686869, 0.6969697 ,\n",
       "       0.70707071, 0.71717172, 0.72727273, 0.73737374, 0.74747475,\n",
       "       0.75757576, 0.76767677, 0.77777778, 0.78787879, 0.7979798 ,\n",
       "       0.80808081, 0.81818182, 0.82828283, 0.83838384, 0.84848485,\n",
       "       0.85858586, 0.86868687, 0.87878788, 0.88888889, 0.8989899 ,\n",
       "       0.90909091, 0.91919192, 0.92929293, 0.93939394, 0.94949495,\n",
       "       0.95959596, 0.96969697, 0.97979798, 0.98989899, 1.        ])"
      ]
     },
     "execution_count": 34,
     "metadata": {},
     "output_type": "execute_result"
    }
   ],
   "source": [
    "np.linspace(0, 1, 101)"
   ]
  },
  {
   "cell_type": "code",
   "execution_count": null,
   "metadata": {},
   "outputs": [],
   "source": []
  }
 ],
 "metadata": {
  "kernelspec": {
   "display_name": "Python 3",
   "language": "python",
   "name": "python3"
  },
  "language_info": {
   "codemirror_mode": {
    "name": "ipython",
    "version": 3
   },
   "file_extension": ".py",
   "mimetype": "text/x-python",
   "name": "python",
   "nbconvert_exporter": "python",
   "pygments_lexer": "ipython3",
   "version": "3.7.3"
  }
 },
 "nbformat": 4,
 "nbformat_minor": 4
}
